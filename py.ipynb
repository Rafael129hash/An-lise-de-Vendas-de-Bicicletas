{
 "cells": [
  {
   "cell_type": "markdown",
   "metadata": {},
   "source": [
    "# Análise de vendas de Bicicleta \n",
    "\n",
    "Essa análise foi feita com base nos dados fornecidos no site www.kaggle\n",
    "\n",
    "Perguntas que serão Respondidas:\n",
    "\n",
    "1. Qual o total de vendas por cidade?\n",
    "2. Qual o total de bicicletas vendidas por modelo?\n",
    "3. Qual é o ticket médio de cada cidade?\n",
    "4. Qual o total de vendas por método de pagamento?\n",
    "5. Qual a faixa etária que mais compra bicicletas?"
   ]
  },
  {
   "cell_type": "markdown",
   "metadata": {},
   "source": [
    "#"
   ]
  },
  {
   "cell_type": "markdown",
   "metadata": {},
   "source": [
    "# Importando Dados para Análise"
   ]
  },
  {
   "cell_type": "code",
   "execution_count": 53,
   "metadata": {},
   "outputs": [
    {
     "name": "stdout",
     "output_type": "stream",
     "text": [
      "   Sale_ID        Date  Customer_ID     Bike_Model    Price  Quantity  \\\n",
      "0        1  11-07-2022         9390        Cruiser   318.32         1   \n",
      "1        2  03-05-2024         3374    Hybrid Bike  3093.47         4   \n",
      "2        3  01-09-2022         2689   Folding Bike  4247.99         3   \n",
      "3        4  28-09-2022         3797  Mountain Bike  1722.01         3   \n",
      "4        5  05-01-2021         1633            BMX  3941.44         3   \n",
      "\n",
      "  Store_Location  Salesperson_ID Payment_Method  Customer_Age Customer_Gender  \n",
      "0   Philadelphia             589      Apple Pay            70          Female  \n",
      "1        Chicago             390      Apple Pay            37            Male  \n",
      "2    San Antonio             338         PayPal            59          Female  \n",
      "3    San Antonio             352      Apple Pay            19            Male  \n",
      "4   Philadelphia             580         PayPal            67          Female  \n"
     ]
    }
   ],
   "source": [
    "import pandas as pd\n",
    "\n",
    "data = pd.read_csv('bike_sales_100k.csv')\n",
    "\n",
    "print(data.head())\n"
   ]
  },
  {
   "cell_type": "markdown",
   "metadata": {},
   "source": [
    "#"
   ]
  },
  {
   "cell_type": "markdown",
   "metadata": {},
   "source": [
    "# Tratamento De Dados"
   ]
  },
  {
   "cell_type": "code",
   "execution_count": 54,
   "metadata": {},
   "outputs": [
    {
     "name": "stdout",
     "output_type": "stream",
     "text": [
      "Sale_ID              int64\n",
      "Date                object\n",
      "Customer_ID          int64\n",
      "Bike_Model          object\n",
      "Price              float64\n",
      "Quantity             int64\n",
      "Store_Location      object\n",
      "Salesperson_ID       int64\n",
      "Payment_Method      object\n",
      "Customer_Age         int64\n",
      "Customer_Gender     object\n",
      "dtype: object\n"
     ]
    }
   ],
   "source": [
    "print(data.dtypes)"
   ]
  },
  {
   "cell_type": "code",
   "execution_count": 55,
   "metadata": {},
   "outputs": [
    {
     "name": "stdout",
     "output_type": "stream",
     "text": [
      "Sale_ID                     int64\n",
      "Date               datetime64[ns]\n",
      "Customer_ID                 int64\n",
      "Bike_Model                 object\n",
      "Price                     float64\n",
      "Quantity                    int64\n",
      "Store_Location             object\n",
      "Salesperson_ID              int64\n",
      "Payment_Method             object\n",
      "Customer_Age                int64\n",
      "Customer_Gender            object\n",
      "dtype: object\n"
     ]
    }
   ],
   "source": [
    "data['Date'] = pd.to_datetime(data['Date'], format='%d-%m-%Y', errors='coerce')\n",
    "\n",
    "print(data.dtypes)\n"
   ]
  },
  {
   "cell_type": "code",
   "execution_count": 56,
   "metadata": {},
   "outputs": [
    {
     "name": "stdout",
     "output_type": "stream",
     "text": [
      "Sale_ID            0\n",
      "Date               0\n",
      "Customer_ID        0\n",
      "Bike_Model         0\n",
      "Price              0\n",
      "Quantity           0\n",
      "Store_Location     0\n",
      "Salesperson_ID     0\n",
      "Payment_Method     0\n",
      "Customer_Age       0\n",
      "Customer_Gender    0\n",
      "dtype: int64\n"
     ]
    }
   ],
   "source": [
    "print(data.isnull().sum())\n"
   ]
  },
  {
   "cell_type": "code",
   "execution_count": 57,
   "metadata": {},
   "outputs": [],
   "source": [
    "data['Customer_Gender'] = data['Customer_Gender'].str.capitalize()\n"
   ]
  },
  {
   "cell_type": "code",
   "execution_count": 58,
   "metadata": {},
   "outputs": [],
   "source": [
    "data['Price'] = pd.to_numeric(data['Price'], errors='coerce')\n",
    "data['Quantity'] = pd.to_numeric(data['Quantity'], errors='coerce')\n",
    "data['Customer_Age'] = pd.to_numeric(data['Customer_Age'], errors='coerce')\n"
   ]
  },
  {
   "cell_type": "code",
   "execution_count": 59,
   "metadata": {},
   "outputs": [
    {
     "name": "stdout",
     "output_type": "stream",
     "text": [
      "   Sale_ID       Date  Customer_ID     Bike_Model    Price  Quantity  \\\n",
      "0        1 2022-07-11         9390        Cruiser   318.32         1   \n",
      "1        2 2024-05-03         3374    Hybrid Bike  3093.47         4   \n",
      "2        3 2022-09-01         2689   Folding Bike  4247.99         3   \n",
      "3        4 2022-09-28         3797  Mountain Bike  1722.01         3   \n",
      "4        5 2021-01-05         1633            BMX  3941.44         3   \n",
      "\n",
      "  Store_Location  Salesperson_ID Payment_Method  Customer_Age Customer_Gender  \n",
      "0   Philadelphia             589      Apple Pay            70          Female  \n",
      "1        Chicago             390      Apple Pay            37            Male  \n",
      "2    San Antonio             338         PayPal            59          Female  \n",
      "3    San Antonio             352      Apple Pay            19            Male  \n",
      "4   Philadelphia             580         PayPal            67          Female  \n"
     ]
    }
   ],
   "source": [
    "print(data.head())"
   ]
  },
  {
   "cell_type": "code",
   "execution_count": 60,
   "metadata": {},
   "outputs": [],
   "source": [
    "data.to_csv('sales_data_cleaned.csv', index=False)"
   ]
  },
  {
   "cell_type": "markdown",
   "metadata": {},
   "source": [
    "#"
   ]
  },
  {
   "cell_type": "markdown",
   "metadata": {},
   "source": [
    "# 1. Qual o total de vendas por cidade?"
   ]
  },
  {
   "cell_type": "code",
   "execution_count": 61,
   "metadata": {},
   "outputs": [
    {
     "name": "stdout",
     "output_type": "stream",
     "text": [
      "  Store_Location      Total_Sales\n",
      "0        Chicago  $110,388,139.04\n",
      "1        Houston  $110,427,042.39\n",
      "2    Los Angeles  $110,340,851.08\n",
      "3       New York  $113,592,473.94\n",
      "4   Philadelphia  $111,765,829.45\n",
      "5        Phoenix  $111,860,419.61\n",
      "6    San Antonio  $110,059,479.44\n"
     ]
    }
   ],
   "source": [
    "data['Total_Sales'] = data['Price'] * data['Quantity']  \n",
    "\n",
    "total_sales_per_city = data.groupby('Store_Location')['Total_Sales'].sum().reset_index()  \n",
    "\n",
    "\n",
    "total_sales_per_city.columns = ['Store_Location', 'Total_Sales']\n",
    "\n",
    "total_sales_per_city['Total_Sales'] = total_sales_per_city['Total_Sales'].apply(lambda x: f'${x:,.2f}')\n",
    "\n",
    "print(total_sales_per_city)\n"
   ]
  },
  {
   "cell_type": "markdown",
   "metadata": {},
   "source": [
    "#"
   ]
  },
  {
   "cell_type": "markdown",
   "metadata": {},
   "source": [
    "# 2. Qual o total de bicicletas vendidas por modelo?"
   ]
  },
  {
   "cell_type": "code",
   "execution_count": 62,
   "metadata": {},
   "outputs": [
    {
     "name": "stdout",
     "output_type": "stream",
     "text": [
      "\n",
      "Total de Bicicletas Vendidas por Modelo:\n",
      "      Bike_Model  Quantity\n",
      "0            BMX     43080\n",
      "1        Cruiser     43120\n",
      "2  Electric Bike     42249\n",
      "3   Folding Bike     42872\n",
      "4    Hybrid Bike     43089\n",
      "5  Mountain Bike     42279\n",
      "6      Road Bike     43022\n"
     ]
    }
   ],
   "source": [
    "total_bikes_per_model = data.groupby('Bike_Model')['Quantity'].sum().reset_index()  \n",
    "\n",
    "print(\"\\nTotal de Bicicletas Vendidas por Modelo:\")\n",
    "print(total_bikes_per_model)\n"
   ]
  },
  {
   "cell_type": "markdown",
   "metadata": {},
   "source": [
    "#"
   ]
  },
  {
   "cell_type": "markdown",
   "metadata": {},
   "source": [
    "# 3. Qual é o ticket médio de cada cidade?"
   ]
  },
  {
   "cell_type": "code",
   "execution_count": 63,
   "metadata": {},
   "outputs": [
    {
     "name": "stdout",
     "output_type": "stream",
     "text": [
      "  Store_Location  Ticket_Medio\n",
      "0        Chicago   7769.982335\n",
      "1        Houston   7804.582825\n",
      "2    Los Angeles   7817.829891\n",
      "3       New York   7825.867994\n",
      "4   Philadelphia   7799.429829\n",
      "5        Phoenix   7776.184888\n",
      "6    San Antonio   7696.467094\n"
     ]
    }
   ],
   "source": [
    "data['Total_Sales'] = data['Price'] * data['Quantity']\n",
    "\n",
    "ticket_medio_por_cidade = data.groupby('Store_Location').agg(\n",
    "    Total_Vendas=('Total_Sales', 'sum'),\n",
    "    Numero_Vendas=('Sale_ID', 'count')\n",
    ").reset_index()\n",
    "\n",
    "ticket_medio_por_cidade['Ticket_Medio'] = ticket_medio_por_cidade['Total_Vendas'] / ticket_medio_por_cidade['Numero_Vendas']\n",
    "\n",
    "print(ticket_medio_por_cidade[['Store_Location', 'Ticket_Medio']])\n"
   ]
  },
  {
   "cell_type": "markdown",
   "metadata": {},
   "source": [
    "#"
   ]
  },
  {
   "cell_type": "markdown",
   "metadata": {},
   "source": [
    "# 4. Qual o total de vendas por método de pagamento?"
   ]
  },
  {
   "cell_type": "code",
   "execution_count": 64,
   "metadata": {},
   "outputs": [
    {
     "name": "stdout",
     "output_type": "stream",
     "text": [
      "  Payment_Method      Total_Sales\n",
      "0      Apple Pay  $130,460,342.05\n",
      "1           Cash  $129,623,764.88\n",
      "2    Credit Card  $129,874,180.38\n",
      "3     Debit Card  $130,529,339.42\n",
      "4     Google Pay  $129,557,017.18\n",
      "5         PayPal  $128,389,591.04\n"
     ]
    }
   ],
   "source": [
    "data['Total_Sales'] = data['Price'] * data['Quantity']\n",
    "\n",
    "total_sales_per_payment_method = data.groupby('Payment_Method')['Total_Sales'].sum().reset_index()\n",
    "\n",
    "total_sales_per_payment_method['Total_Sales'] = total_sales_per_payment_method['Total_Sales'].apply(lambda x: f\"${x:,.2f}\")\n",
    "\n",
    "print(total_sales_per_payment_method)\n"
   ]
  },
  {
   "cell_type": "markdown",
   "metadata": {},
   "source": [
    "#"
   ]
  },
  {
   "cell_type": "markdown",
   "metadata": {},
   "source": [
    "# 5. Qual a faixa etária que mais compra bicicletas?"
   ]
  },
  {
   "cell_type": "code",
   "execution_count": 65,
   "metadata": {},
   "outputs": [
    {
     "name": "stdout",
     "output_type": "stream",
     "text": [
      "  Age_Group  Quantity\n",
      "0     19-30     67947\n",
      "1     31-45     84545\n",
      "2     46-60     84798\n",
      "3     61-75     62421\n"
     ]
    }
   ],
   "source": [
    "bins = [0, 18, 30, 45, 60, 75, 100]  \n",
    "labels = ['0-18', '19-30', '31-45', '46-60', '61-75', '76+']  \n",
    "\n",
    "data['Age_Group'] = pd.cut(data['Customer_Age'], bins=bins, labels=labels, right=False)\n",
    "\n",
    "total_bikes_per_age_group = data.groupby('Age_Group', observed=True)['Quantity'].sum().reset_index()\n",
    "\n",
    "print(total_bikes_per_age_group)\n"
   ]
  }
 ],
 "metadata": {
  "kernelspec": {
   "display_name": "Python 3",
   "language": "python",
   "name": "python3"
  },
  "language_info": {
   "codemirror_mode": {
    "name": "ipython",
    "version": 3
   },
   "file_extension": ".py",
   "mimetype": "text/x-python",
   "name": "python",
   "nbconvert_exporter": "python",
   "pygments_lexer": "ipython3",
   "version": "3.12.5"
  }
 },
 "nbformat": 4,
 "nbformat_minor": 2
}
